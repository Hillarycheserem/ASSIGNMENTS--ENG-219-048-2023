{
  "nbformat": 4,
  "nbformat_minor": 0,
  "metadata": {
    "colab": {
      "provenance": [],
      "include_colab_link": true
    },
    "kernelspec": {
      "name": "python3",
      "display_name": "Python 3"
    },
    "language_info": {
      "name": "python"
    }
  },
  "cells": [
    {
      "cell_type": "markdown",
      "metadata": {
        "id": "view-in-github",
        "colab_type": "text"
      },
      "source": [
        "<a href=\"https://colab.research.google.com/github/Hillarycheserem/ASSIGNMENTS--ENG-219-048-2023/blob/main/CIT22228__COnditional_Statements_in_Python.ipynb\" target=\"_parent\"><img src=\"https://colab.research.google.com/assets/colab-badge.svg\" alt=\"Open In Colab\"/></a>"
      ]
    },
    {
      "cell_type": "markdown",
      "source": [
        "# Control Statements in Python\n",
        "\n",
        "## Conditional statements\n",
        "\n",
        "Reading assignment: Chapter 3 of Dietel.\n",
        "\n"
      ],
      "metadata": {
        "id": "lEv-nN_jvqeo"
      }
    },
    {
      "cell_type": "code",
      "execution_count": null,
      "metadata": {
        "colab": {
          "base_uri": "https://localhost:8080/"
        },
        "id": "o4seiIKGDYgi",
        "outputId": "a8bf1fdd-00cd-4f51-adde-aa636c231bea"
      },
      "outputs": [
        {
          "output_type": "stream",
          "name": "stdout",
          "text": [
            "This an in built function\n"
          ]
        }
      ],
      "source": [
        "print('This an in built function')"
      ]
    },
    {
      "cell_type": "code",
      "source": [
        "print( 2 > 3)"
      ],
      "metadata": {
        "colab": {
          "base_uri": "https://localhost:8080/"
        },
        "id": "EDpLTK7CEUKv",
        "outputId": "f3b71c3f-753c-4370-e8e9-9a90f3a00434"
      },
      "execution_count": null,
      "outputs": [
        {
          "output_type": "stream",
          "name": "stdout",
          "text": [
            "False\n"
          ]
        }
      ]
    },
    {
      "cell_type": "code",
      "source": [
        "x = 7\n",
        "y = 5 + 2\n",
        "print( x == y)\n",
        "\n",
        "print(x <= y)\n",
        "\n",
        "print(x < y)"
      ],
      "metadata": {
        "colab": {
          "base_uri": "https://localhost:8080/"
        },
        "id": "QdnzMG-eEZ1o",
        "outputId": "8048fa8b-603d-40b3-c4fb-16270ccacbde"
      },
      "execution_count": null,
      "outputs": [
        {
          "output_type": "stream",
          "name": "stdout",
          "text": [
            "True\n",
            "True\n",
            "False\n"
          ]
        }
      ]
    },
    {
      "cell_type": "code",
      "source": [
        "# if statement\n",
        "\n",
        "temp = float(input(\"What is the body temperature?: \"))\n",
        "\n",
        "if temp > 38:\n",
        "    print(\"You have a fever\")\n",
        "    print(\"Do more exercise\")\n",
        "\n",
        "print(\"Goodbye\")"
      ],
      "metadata": {
        "colab": {
          "base_uri": "https://localhost:8080/"
        },
        "id": "J-d93OLYIDEV",
        "outputId": "f46e0eb4-cc03-4788-e206-5fd9838fdbdb"
      },
      "execution_count": null,
      "outputs": [
        {
          "output_type": "stream",
          "name": "stdout",
          "text": [
            "What is the body temperature?: 37\n",
            "Goodbye\n"
          ]
        }
      ]
    },
    {
      "cell_type": "markdown",
      "source": [
        "## `if ... else` statements\n",
        "\n",
        "We can use \"else\" statements to run code if a statement is False. The code under the \"if\" statement is run if the statement is True, and the code under \"else\" is run if the statement is False."
      ],
      "metadata": {
        "id": "sgKs-N2sJgbi"
      }
    },
    {
      "cell_type": "code",
      "source": [
        "temp = float(input(\"What is the body temperature?: \"))\n",
        "\n",
        "if temp > 38:\n",
        "    print(\"You have a fever\")\n",
        "    print(\"Do more exercise\")\n",
        "else:\n",
        "    print(\"You do not have a fever\")\n",
        "    print(\"Enjoy your day\")\n",
        "\n",
        "print(\"Goodbye\")"
      ],
      "metadata": {
        "id": "yWKYisOfJsEr",
        "colab": {
          "base_uri": "https://localhost:8080/"
        },
        "outputId": "ab7951e4-8430-4529-a07a-7ad96f063a94"
      },
      "execution_count": null,
      "outputs": [
        {
          "name": "stdout",
          "output_type": "stream",
          "text": [
            "What is the body temperature?: 34\n"
          ]
        }
      ]
    },
    {
      "cell_type": "markdown",
      "source": [
        "## `if ... elif ... else` statements¶\n",
        "We can use \"elif\" (which is short for \"else if\") to check if multiple conditions might be true. The function below:\n",
        "\n",
        "First checks if temp > 38. If this is true, then the message is set to \"Fever!\".\n",
        "As long as the message has not already been set, the function then checks if temp > 35. If this is true, then the message is set to \"Normal temperature.\".\n",
        "Then, if still no message has been set, the \"else\" statement ensures that the message is set to \"Low temperature.\" message is printed.\n",
        "You can think of \"elif\" as saying ... \"okay, that previous condition (e.g., temp > 38) was false, so let's check if this new condition (e.g., temp > 35) might be true!\""
      ],
      "metadata": {
        "id": "GoqDA-9aKoQt"
      }
    },
    {
      "cell_type": "code",
      "source": [
        "temp = float(input(\"What is the body temperature?: \"))\n",
        "\n",
        "if temp > 38:\n",
        "  print(\"Fever\")\n",
        "\n",
        "elif temp > 35:\n",
        "  print(\"Normal temperature\")\n",
        "\n",
        "else:\n",
        "  print(\"Low temperature\")"
      ],
      "metadata": {
        "colab": {
          "base_uri": "https://localhost:8080/"
        },
        "id": "4XXf9gybKwSB",
        "outputId": "80bb2630-6a0d-4e84-b003-e519b4c81d6b"
      },
      "execution_count": null,
      "outputs": [
        {
          "output_type": "stream",
          "name": "stdout",
          "text": [
            "What is the body temperature?: 35\n",
            "Low temperature\n"
          ]
        }
      ]
    },
    {
      "cell_type": "markdown",
      "source": [
        "### Example - Calculations¶\n",
        "\n",
        "In the examples so far, conditional statements were used to decide how to set the values of variables. But you can also use conditional statements to perform different calculations.\n",
        "\n",
        "In this next example, say you live in a country with only two tax brackets. Everyone earning less than 12,000 pays 25% in taxes, and anyone earning 12,000 or more pays 30%. The function below calculates how much tax is owed."
      ],
      "metadata": {
        "id": "pWwt08xjLjv8"
      }
    },
    {
      "cell_type": "code",
      "source": [
        "income = float(input(\"What is your income?: \"))\n",
        "\n",
        "if income < 12000:\n",
        "  tax_owed = .25 * income\n",
        "  print(\"You owe a total of $\" + str(tax_owed) + \" in taxes\")\n",
        "\n",
        "else:\n",
        "  tax_owed = .30 * income\n",
        "  print(\"You owe a total of $\" + str(tax_owed) + \" in taxes\")"
      ],
      "metadata": {
        "colab": {
          "base_uri": "https://localhost:8080/"
        },
        "id": "5HjlMc45Lobr",
        "outputId": "864ad02d-8a26-4ec8-8814-b0d29ea6aa8f"
      },
      "execution_count": null,
      "outputs": [
        {
          "output_type": "stream",
          "name": "stdout",
          "text": [
            "What is your income?: 11000\n",
            "You owe a total of $2750.0 in taxes\n"
          ]
        }
      ]
    },
    {
      "cell_type": "markdown",
      "source": [
        "### Example - Multiple \"elif\" statements¶\n",
        "So far, you have seen \"elif\" used only once in a function. But there's no limit to the number of \"elif\" statements you can use. For instance, the next block of code calculates the dose of medication (in milliliters) to give to a child, based on weight (in kilograms).\n",
        "\n",
        "Note: This function should not be used as medical advice, and represents a fake medication."
      ],
      "metadata": {
        "id": "GPjVpZ3fM3SL"
      }
    },
    {
      "cell_type": "code",
      "source": [
        "weight = float(input(\"How much does the child weigh?: \"))\n",
        "\n",
        "if weight < 1:\n",
        "  print(\"Give 3 grams of formula\")\n",
        "\n",
        "elif weight < 3:\n",
        "  print(\"Give 5 grams of formula\")\n",
        "\n",
        "elif weight < 10:\n",
        "  print(\"Give 10 grams of formula\")\n",
        "\n",
        "else:\n",
        "  print(\"Give 15 grams of formula\")"
      ],
      "metadata": {
        "colab": {
          "base_uri": "https://localhost:8080/"
        },
        "id": "5p8tsJKeM82k",
        "outputId": "b6b0d121-b02d-48cd-c885-2d492b9f7a89"
      },
      "execution_count": null,
      "outputs": [
        {
          "output_type": "stream",
          "name": "stdout",
          "text": [
            "How much does the child weigh?: 11\n",
            "Give 15 grams of formula\n"
          ]
        }
      ]
    }
  ]
}