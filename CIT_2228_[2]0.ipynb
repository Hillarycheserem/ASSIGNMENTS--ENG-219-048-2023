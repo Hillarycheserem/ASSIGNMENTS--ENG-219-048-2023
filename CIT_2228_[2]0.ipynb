{
  "nbformat": 4,
  "nbformat_minor": 0,
  "metadata": {
    "colab": {
      "provenance": [],
      "authorship_tag": "ABX9TyNanijR+zG0ojR4uKKa3luK",
      "include_colab_link": true
    },
    "kernelspec": {
      "name": "python3",
      "display_name": "Python 3"
    },
    "language_info": {
      "name": "python"
    }
  },
  "cells": [
    {
      "cell_type": "markdown",
      "metadata": {
        "id": "view-in-github",
        "colab_type": "text"
      },
      "source": [
        "<a href=\"https://colab.research.google.com/github/Hillarycheserem/ASSIGNMENTS--ENG-219-048-2023/blob/main/CIT_2228_%5B2%5D0.ipynb\" target=\"_parent\"><img src=\"https://colab.research.google.com/assets/colab-badge.svg\" alt=\"Open In Colab\"/></a>"
      ]
    },
    {
      "cell_type": "code",
      "execution_count": null,
      "metadata": {
        "colab": {
          "base_uri": "https://localhost:8080/"
        },
        "id": "x0CU66OgAsZ7",
        "outputId": "b44c8ddb-f957-4e47-ddb0-4d6c4bbe88e3"
      },
      "outputs": [
        {
          "output_type": "execute_result",
          "data": {
            "text/plain": [
              "True"
            ]
          },
          "metadata": {},
          "execution_count": 1
        }
      ],
      "source": [
        "7>4"
      ]
    },
    {
      "cell_type": "code",
      "source": [
        "9<4\n"
      ],
      "metadata": {
        "colab": {
          "base_uri": "https://localhost:8080/"
        },
        "id": "d2DLkhhzBdD1",
        "outputId": "e189d9e9-b05c-4c94-c91f-d2d00c7b2ce8"
      },
      "execution_count": null,
      "outputs": [
        {
          "output_type": "execute_result",
          "data": {
            "text/plain": [
              "False"
            ]
          },
          "metadata": {},
          "execution_count": 3
        }
      ]
    },
    {
      "cell_type": "code",
      "source": [
        "8==9\n"
      ],
      "metadata": {
        "colab": {
          "base_uri": "https://localhost:8080/"
        },
        "id": "lZkhkNWIB_6i",
        "outputId": "12cf2a16-dc02-46ca-af83-1e224fb1c1ae"
      },
      "execution_count": null,
      "outputs": [
        {
          "output_type": "execute_result",
          "data": {
            "text/plain": [
              "False"
            ]
          },
          "metadata": {},
          "execution_count": 5
        }
      ]
    },
    {
      "cell_type": "code",
      "source": [
        "7<=8"
      ],
      "metadata": {
        "colab": {
          "base_uri": "https://localhost:8080/"
        },
        "id": "dCpbbZ4NCMGu",
        "outputId": "0c1e2feb-c771-4e16-9fda-bfd2ec86fdd6"
      },
      "execution_count": null,
      "outputs": [
        {
          "output_type": "execute_result",
          "data": {
            "text/plain": [
              "True"
            ]
          },
          "metadata": {},
          "execution_count": 9
        }
      ]
    },
    {
      "cell_type": "markdown",
      "source": [
        "IF statements"
      ],
      "metadata": {
        "id": "5kz71cKYDYGq"
      }
    },
    {
      "cell_type": "code",
      "source": [
        "#if statements\n",
        "print(\"Enter two integers\")\n",
        "#read integers\n",
        "Number1=int(input('Enter first age'))\n",
        "#second number\n",
        "Number2=int(input('Enter second age'))\n",
        "#comparison\n",
        "if Number1>Number2:\n",
        "  print(Number1,'is greater than',Number2)\n",
        "if Number1<Number2:\n",
        "  print(Number2,\"is greater than\",Number1)\n",
        "if Number1==Number2:\n",
        "  print(Number1,\"is equal to\",Number2)\n",
        "\n",
        "\n",
        "\n"
      ],
      "metadata": {
        "colab": {
          "base_uri": "https://localhost:8080/"
        },
        "id": "i0lBcbViC5QC",
        "outputId": "f8802531-92ca-40d8-e462-e4a66b1cd44b"
      },
      "execution_count": null,
      "outputs": [
        {
          "output_type": "stream",
          "name": "stdout",
          "text": [
            "Enter two integers\n",
            "Enter first age43\n",
            "Enter second age67\n",
            "67 is greater than 43\n"
          ]
        }
      ]
    },
    {
      "cell_type": "code",
      "source": [
        "AGE=int(input('Enter your age:'))\n",
        "if 18<=AGE<=22:\n",
        "  print(\"You are adult \")\n",
        "if AGE<18:\n",
        "  print(\"You are a minor\")\n",
        "if AGE>=23:\n",
        "  print(\"Why are you single!!!!\")"
      ],
      "metadata": {
        "colab": {
          "base_uri": "https://localhost:8080/"
        },
        "id": "sZYNqjeQGspP",
        "outputId": "068a0090-3cbf-4822-b8c1-c98ac7a5d448"
      },
      "execution_count": null,
      "outputs": [
        {
          "output_type": "stream",
          "name": "stdout",
          "text": [
            "Enter your age:21\n",
            "You are adult\n"
          ]
        }
      ]
    },
    {
      "cell_type": "markdown",
      "source": [
        "Booleans"
      ],
      "metadata": {
        "id": "DfKRuanyJ7SW"
      }
    },
    {
      "cell_type": "markdown",
      "source": [],
      "metadata": {
        "id": "xVCUONf7J67x"
      }
    },
    {
      "cell_type": "code",
      "source": [
        "AGE=int(input(\"Enter your age:\"))\n",
        "if AGE>11 and AGE<18:\n",
        "  print(\"You are an adolescent\")\n",
        "if AGE==18 or AGE>30:\n",
        "  print(\"You are not single\")\n",
        "\n"
      ],
      "metadata": {
        "colab": {
          "base_uri": "https://localhost:8080/"
        },
        "id": "sUwSGNi7JzR9",
        "outputId": "4c544f07-0b46-400c-c2c3-ad7eb148905a"
      },
      "execution_count": null,
      "outputs": [
        {
          "output_type": "stream",
          "name": "stdout",
          "text": [
            "Enter your age:15\n",
            "You are an adolescent\n"
          ]
        }
      ]
    },
    {
      "cell_type": "code",
      "source": [
        "AGE=int(input(\"Whats your age:\"))\n",
        "if AGE is 18:\n",
        " print(\"YOU ARE ADULT\")"
      ],
      "metadata": {
        "colab": {
          "base_uri": "https://localhost:8080/"
        },
        "id": "ZZa4LvjQMHCK",
        "outputId": "ce186c88-befb-4d36-d179-0505eb70f8d3"
      },
      "execution_count": null,
      "outputs": [
        {
          "output_type": "stream",
          "name": "stderr",
          "text": [
            "<>:2: SyntaxWarning: \"is\" with a literal. Did you mean \"==\"?\n",
            "<>:2: SyntaxWarning: \"is\" with a literal. Did you mean \"==\"?\n"
          ]
        },
        {
          "output_type": "stream",
          "name": "stdout",
          "text": [
            "Whats your age:18\n",
            "YOU ARE ADULT\n"
          ]
        },
        {
          "output_type": "stream",
          "name": "stderr",
          "text": [
            "<ipython-input-24-e71c73f9408b>:2: SyntaxWarning: \"is\" with a literal. Did you mean \"==\"?\n",
            "  if AGE is 18:\n"
          ]
        }
      ]
    },
    {
      "cell_type": "markdown",
      "source": [
        "Statistics"
      ],
      "metadata": {
        "id": "Hk9d1JU9N3Ww"
      }
    },
    {
      "cell_type": "code",
      "source": [
        "Numbers=[56,78,90,54,34]\n",
        "max(Numbers)\n",
        "len(Numbers)"
      ],
      "metadata": {
        "colab": {
          "base_uri": "https://localhost:8080/"
        },
        "id": "z7arwoFdNCLM",
        "outputId": "d1a0c20e-2d2d-49a8-d620-0b5b937a619f"
      },
      "execution_count": null,
      "outputs": [
        {
          "output_type": "execute_result",
          "data": {
            "text/plain": [
              "5"
            ]
          },
          "metadata": {},
          "execution_count": 27
        }
      ]
    },
    {
      "cell_type": "code",
      "source": [
        "Number1=int(input(\"Enter first number:\"))\n",
        "Number2=int(input(\"Enter second number:\"))\n",
        "Number3=int(input(\"Enter third number:\"))\n",
        "if Number1>Number2 and Number1>Number3:\n",
        "  print(Number1,\"is the largest number\")\n",
        "if Number2>Number1 and Number2>Number3:\n",
        "  print(Number2,\"is the largest number\")\n",
        "if Number3>Number1 and Number3>Number2:\n",
        "  print(Number3,\"is the largest number\")\n",
        "\n"
      ],
      "metadata": {
        "colab": {
          "base_uri": "https://localhost:8080/"
        },
        "id": "w7294nzPOqRA",
        "outputId": "a46527e3-adb4-4ee6-f4ad-075359456d7f"
      },
      "execution_count": null,
      "outputs": [
        {
          "output_type": "stream",
          "name": "stdout",
          "text": [
            "Enter first number:34\n",
            "Enter second number:67\n",
            "Enter third number:90\n",
            "90 is the largest number\n"
          ]
        }
      ]
    },
    {
      "cell_type": "code",
      "source": [
        "Y2S2=[176,141,133,177]\n",
        "print(max(Y2S2))\n",
        "print(min(Y2S2))\n",
        "sum(Y2S2)\n",
        "avg=sum(Y2S2)/len(Y2S2)\n",
        "print(avg)"
      ],
      "metadata": {
        "colab": {
          "base_uri": "https://localhost:8080/"
        },
        "id": "_fsLIybHQIsE",
        "outputId": "1fccfb59-4af5-408e-c872-f24203b43c30"
      },
      "execution_count": null,
      "outputs": [
        {
          "output_type": "stream",
          "name": "stdout",
          "text": [
            "177\n",
            "133\n",
            "156.75\n"
          ]
        }
      ]
    },
    {
      "cell_type": "code",
      "source": [],
      "metadata": {
        "id": "uPRniXmGRueV"
      },
      "execution_count": null,
      "outputs": []
    }
  ]
}