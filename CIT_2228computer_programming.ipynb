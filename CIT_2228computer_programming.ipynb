{
  "nbformat": 4,
  "nbformat_minor": 0,
  "metadata": {
    "colab": {
      "provenance": [],
      "authorship_tag": "ABX9TyPv6aVz+KiRuJk4xMHtlwOB",
      "include_colab_link": true
    },
    "kernelspec": {
      "name": "python3",
      "display_name": "Python 3"
    },
    "language_info": {
      "name": "python"
    }
  },
  "cells": [
    {
      "cell_type": "markdown",
      "metadata": {
        "id": "view-in-github",
        "colab_type": "text"
      },
      "source": [
        "<a href=\"https://colab.research.google.com/github/Hillarycheserem/ASSIGNMENTS--ENG-219-048-2023/blob/main/CIT_2228computer_programming.ipynb\" target=\"_parent\"><img src=\"https://colab.research.google.com/assets/colab-badge.svg\" alt=\"Open In Colab\"/></a>"
      ]
    },
    {
      "cell_type": "code",
      "execution_count": null,
      "metadata": {
        "colab": {
          "base_uri": "https://localhost:8080/"
        },
        "id": "TIHqR6eGvGo8",
        "outputId": "5cff28c2-d268-49a2-baaa-da8ad9d0e08f"
      },
      "outputs": [
        {
          "output_type": "execute_result",
          "data": {
            "text/plain": [
              "-3"
            ]
          },
          "metadata": {},
          "execution_count": 1
        }
      ],
      "source": [
        "3*(4-5)"
      ]
    },
    {
      "cell_type": "code",
      "source": [
        "3*4-5"
      ],
      "metadata": {
        "colab": {
          "base_uri": "https://localhost:8080/"
        },
        "id": "g5bfEYyGwDhU",
        "outputId": "6c07fc58-d4bd-4cc9-f070-0c9eb4b2c006"
      },
      "execution_count": null,
      "outputs": [
        {
          "output_type": "execute_result",
          "data": {
            "text/plain": [
              "7"
            ]
          },
          "metadata": {},
          "execution_count": 2
        }
      ]
    },
    {
      "cell_type": "code",
      "source": [
        "((3**2)**3)**2"
      ],
      "metadata": {
        "colab": {
          "base_uri": "https://localhost:8080/"
        },
        "id": "H3WTUh6lwS6M",
        "outputId": "afddb081-2543-46c2-b84d-9dd0ad66c078"
      },
      "execution_count": null,
      "outputs": [
        {
          "output_type": "execute_result",
          "data": {
            "text/plain": [
              "531441"
            ]
          },
          "metadata": {},
          "execution_count": 4
        }
      ]
    },
    {
      "cell_type": "code",
      "source": [
        "#function print and intro to single and double quoted strings\n",
        "print(\"welcome to python programming \")"
      ],
      "metadata": {
        "colab": {
          "base_uri": "https://localhost:8080/"
        },
        "id": "-_8rk916xJBG",
        "outputId": "e51d8b24-923f-446d-b033-2b73d8f511c2"
      },
      "execution_count": null,
      "outputs": [
        {
          "output_type": "stream",
          "name": "stdout",
          "text": [
            "welcome to python programming \n"
          ]
        }
      ]
    },
    {
      "cell_type": "code",
      "source": [
        "X=int(5)\n",
        "print(\"Hello\",X,)"
      ],
      "metadata": {
        "colab": {
          "base_uri": "https://localhost:8080/"
        },
        "id": "uqPfk_6Oxu1_",
        "outputId": "be44c9b0-81cc-4bab-e428-26d65edcab66"
      },
      "execution_count": null,
      "outputs": [
        {
          "output_type": "stream",
          "name": "stdout",
          "text": [
            "Hello 5\n"
          ]
        }
      ]
    },
    {
      "cell_type": "code",
      "source": [
        "print('welcome \\nto \\npython!')"
      ],
      "metadata": {
        "colab": {
          "base_uri": "https://localhost:8080/"
        },
        "id": "8xCWLXD-ydd-",
        "outputId": "6e9d574e-afd8-4929-d875-4a89477b7fa2"
      },
      "execution_count": null,
      "outputs": [
        {
          "output_type": "stream",
          "name": "stdout",
          "text": [
            "welcome \n",
            "to \n",
            "python!\n"
          ]
        }
      ]
    },
    {
      "cell_type": "code",
      "source": [
        "#Getting input from users\n",
        "The built in function"
      ],
      "metadata": {
        "id": "6mX7GfgIzmNY"
      },
      "execution_count": null,
      "outputs": []
    },
    {
      "cell_type": "markdown",
      "source": [
        "Getting input from users"
      ],
      "metadata": {
        "id": "AqIk5VWQz1gc"
      }
    },
    {
      "cell_type": "code",
      "source": [
        "Name=input(\"What is your name:\")\n",
        "print(\"Hello\",Name,\"how are you doing?\")"
      ],
      "metadata": {
        "colab": {
          "base_uri": "https://localhost:8080/"
        },
        "id": "3leJ9vbmz_1A",
        "outputId": "988e7e94-148e-4061-9397-e8438e1fa611"
      },
      "execution_count": null,
      "outputs": [
        {
          "output_type": "stream",
          "name": "stdout",
          "text": [
            "What is your name:Hi\n",
            "Hello Hi how are you doing?\n"
          ]
        }
      ]
    },
    {
      "cell_type": "code",
      "source": [
        "Height_1=float(input(\"first:\"))\n",
        "Height_2=float(input(\"second:\"))\n",
        "Height_3=float(input(\"Third:\"))\n",
        "Average=(Height_1+Height_2+Height_3)//3\n",
        "print(\"Your avarage is:\",Average)"
      ],
      "metadata": {
        "colab": {
          "base_uri": "https://localhost:8080/"
        },
        "id": "h1qtMLO0020b",
        "outputId": "b401d2c6-4833-429b-ec1d-8588ccf0270b"
      },
      "execution_count": null,
      "outputs": [
        {
          "output_type": "stream",
          "name": "stdout",
          "text": [
            "first:6\n",
            "second:8\n",
            "Third:67.54\n",
            "Your avarage is: 27.0\n"
          ]
        }
      ]
    }
  ]
}